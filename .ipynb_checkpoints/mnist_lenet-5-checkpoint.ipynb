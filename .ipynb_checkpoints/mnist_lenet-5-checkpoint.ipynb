{
 "cells": [
  {
   "cell_type": "code",
   "execution_count": 1,
   "metadata": {},
   "outputs": [
    {
     "name": "stdout",
     "output_type": "stream",
     "text": [
      "2.1.0\n",
      "Num GPUs Available:  1\n"
     ]
    }
   ],
   "source": [
    "from __future__ import absolute_import, division, print_function, unicode_literals\n",
    "\n",
    "import os\n",
    "import numpy as np\n",
    "import matplotlib.pyplot as plt\n",
    "import tensorflow as tf\n",
    "import tensorflow.keras as keras\n",
    "\n",
    "print(tf.version.VERSION)\n",
    "print(\"Num GPUs Available: \", len(tf.config.list_physical_devices('GPU')))\n",
    "gpu = tf.config.experimental.list_physical_devices('GPU')\n",
    "tf.config.experimental.set_memory_growth(gpu[0], True)"
   ]
  },
  {
   "cell_type": "code",
   "execution_count": 2,
   "metadata": {},
   "outputs": [
    {
     "name": "stdout",
     "output_type": "stream",
     "text": [
      "(60000, 32, 32, 1)\n",
      "(60000,)\n",
      "(10000, 32, 32, 1)\n",
      "(10000,)\n"
     ]
    }
   ],
   "source": [
    "data = keras.datasets.mnist\n",
    "(x_train, y_train), (x_test, y_test) = data.load_data()\n",
    "\n",
    "x_train = np.pad(x_train, ((0,0), (2,2), (2,2)), 'constant', constant_values=0)\n",
    "x_train = x_train / 255.\n",
    "x_train = np.reshape(x_train, (x_train.shape[0], 32, 32, 1))\n",
    "print(x_train.shape)\n",
    "print(y_train.shape)\n",
    "\n",
    "x_test = np.pad(x_test, ((0,0), (2,2), (2,2)), 'constant', constant_values=0)\n",
    "x_test = x_test / 255.\n",
    "x_test = np.reshape(x_test, (x_test.shape[0], 32, 32, 1))\n",
    "x_train = x_train.astype(np.float32)\n",
    "x_test = x_test.astype(np.float32)\n",
    "print(x_test.shape)\n",
    "print(y_test.shape)"
   ]
  },
  {
   "cell_type": "code",
   "execution_count": 3,
   "metadata": {},
   "outputs": [],
   "source": [
    "inputs = keras.Input(shape=(32,32,1), name='hand_writing_digit')\n",
    "conv2d_1 = keras.layers.Conv2D(filters=6, kernel_size=(5,5), activation='relu', name='conv2d_1')(inputs)\n",
    "pool_1 = keras.layers.AveragePooling2D((2,2), name='pool_1')(conv2d_1)\n",
    "conv2d_2 = keras.layers.Conv2D(filters=16, kernel_size=(5,5), activation='relu', name='conv2d_2')(pool_1)\n",
    "pool_2 = keras.layers.AveragePooling2D((2,2), name='pool_2')(conv2d_2)\n",
    "flatten = keras.layers.Flatten(name='flatten')(pool_2)\n",
    "dense_1 = keras.layers.Dense(120, activation='relu', name='dense_1')(flatten)\n",
    "dense_2 = keras.layers.Dense(84, activation='relu', name='dense_2')(dense_1)\n",
    "outputs = keras.layers.Dense(10, name='outputs')(dense_2)\n",
    "\n",
    "# Multi-Layer Perceptron\n",
    "model = keras.Model(inputs=inputs, outputs=outputs, name='lenet5_mlp')\n",
    "\n",
    "loss_fn = keras.losses.SparseCategoricalCrossentropy(from_logits=True)\n",
    "    \n",
    "model.compile(\n",
    "    optimizer='SGD',\n",
    "    loss=loss_fn,\n",
    "    metrics=['accuracy'])"
   ]
  },
  {
   "cell_type": "code",
   "execution_count": 4,
   "metadata": {},
   "outputs": [
    {
     "name": "stdout",
     "output_type": "stream",
     "text": [
      "Model: \"lenet5_mlp\"\n",
      "_________________________________________________________________\n",
      "Layer (type)                 Output Shape              Param #   \n",
      "=================================================================\n",
      "hand_writing_digit (InputLay [(None, 32, 32, 1)]       0         \n",
      "_________________________________________________________________\n",
      "conv2d_1 (Conv2D)            (None, 28, 28, 6)         156       \n",
      "_________________________________________________________________\n",
      "pool_1 (AveragePooling2D)    (None, 14, 14, 6)         0         \n",
      "_________________________________________________________________\n",
      "conv2d_2 (Conv2D)            (None, 10, 10, 16)        2416      \n",
      "_________________________________________________________________\n",
      "pool_2 (AveragePooling2D)    (None, 5, 5, 16)          0         \n",
      "_________________________________________________________________\n",
      "flatten (Flatten)            (None, 400)               0         \n",
      "_________________________________________________________________\n",
      "dense_1 (Dense)              (None, 120)               48120     \n",
      "_________________________________________________________________\n",
      "dense_2 (Dense)              (None, 84)                10164     \n",
      "_________________________________________________________________\n",
      "outputs (Dense)              (None, 10)                850       \n",
      "=================================================================\n",
      "Total params: 61,706\n",
      "Trainable params: 61,706\n",
      "Non-trainable params: 0\n",
      "_________________________________________________________________\n"
     ]
    }
   ],
   "source": [
    "model.summary()"
   ]
  },
  {
   "cell_type": "code",
   "execution_count": 5,
   "metadata": {},
   "outputs": [
    {
     "name": "stdout",
     "output_type": "stream",
     "text": [
      "WARNING:tensorflow:`period` argument is deprecated. Please use `save_freq` to specify the frequency in number of samples seen.\n"
     ]
    }
   ],
   "source": [
    "checkpoint_path = 'checkpoints/parameters-{epoch:04d}.ckpt'\n",
    "checkpoint_dir = os.path.dirname(checkpoint_path)\n",
    "\n",
    "cp_callback = keras.callbacks.ModelCheckpoint(\n",
    "    filepath=checkpoint_path,\n",
    "    save_weights_only=True,\n",
    "    verbose=1,\n",
    "    period=5)"
   ]
  },
  {
   "cell_type": "code",
   "execution_count": 6,
   "metadata": {},
   "outputs": [
    {
     "name": "stdout",
     "output_type": "stream",
     "text": [
      "Train on 60000 samples\n",
      "Epoch 1/20\n",
      "60000/60000 [==============================] - 10s 167us/sample - loss: 0.7101 - accuracy: 0.7768\n",
      "Epoch 2/20\n",
      "60000/60000 [==============================] - 9s 145us/sample - loss: 0.2112 - accuracy: 0.9359\n",
      "Epoch 3/20\n",
      "60000/60000 [==============================] - 11s 178us/sample - loss: 0.1485 - accuracy: 0.9548\n",
      "Epoch 4/20\n",
      "60000/60000 [==============================] - 9s 150us/sample - loss: 0.1144 - accuracy: 0.9646\n",
      "Epoch 5/20\n",
      "59328/60000 [============================>.] - ETA: 0s - loss: 0.0951 - accuracy: 0.9703\n",
      "Epoch 00005: saving model to checkpoints/parameters-0005.ckpt\n",
      "60000/60000 [==============================] - 4s 68us/sample - loss: 0.0949 - accuracy: 0.9704\n",
      "Epoch 6/20\n",
      "60000/60000 [==============================] - 5s 80us/sample - loss: 0.0825 - accuracy: 0.9745\n",
      "Epoch 7/20\n",
      "60000/60000 [==============================] - 5s 82us/sample - loss: 0.0707 - accuracy: 0.9782\n",
      "Epoch 8/20\n",
      "60000/60000 [==============================] - 5s 91us/sample - loss: 0.0640 - accuracy: 0.9809\n",
      "Epoch 9/20\n",
      "60000/60000 [==============================] - 6s 95us/sample - loss: 0.0581 - accuracy: 0.9818\n",
      "Epoch 10/20\n",
      "59968/60000 [============================>.] - ETA: 0s - loss: 0.0537 - accuracy: 0.9833\n",
      "Epoch 00010: saving model to checkpoints/parameters-0010.ckpt\n",
      "60000/60000 [==============================] - 5s 87us/sample - loss: 0.0537 - accuracy: 0.9833\n",
      "Epoch 11/20\n",
      "60000/60000 [==============================] - 4s 71us/sample - loss: 0.0494 - accuracy: 0.9848\n",
      "Epoch 12/20\n",
      "60000/60000 [==============================] - 5s 76us/sample - loss: 0.0458 - accuracy: 0.9859\n",
      "Epoch 13/20\n",
      "60000/60000 [==============================] - 5s 80us/sample - loss: 0.0418 - accuracy: 0.9869\n",
      "Epoch 14/20\n",
      "60000/60000 [==============================] - 5s 80us/sample - loss: 0.0392 - accuracy: 0.9877\n",
      "Epoch 15/20\n",
      "59712/60000 [============================>.] - ETA: 0s - loss: 0.0369 - accuracy: 0.9881\n",
      "Epoch 00015: saving model to checkpoints/parameters-0015.ckpt\n",
      "60000/60000 [==============================] - 5s 80us/sample - loss: 0.0370 - accuracy: 0.9881\n",
      "Epoch 16/20\n",
      "60000/60000 [==============================] - 4s 68us/sample - loss: 0.0347 - accuracy: 0.9892\n",
      "Epoch 17/20\n",
      "60000/60000 [==============================] - 4s 64us/sample - loss: 0.0323 - accuracy: 0.9902\n",
      "Epoch 18/20\n",
      "60000/60000 [==============================] - 4s 62us/sample - loss: 0.0302 - accuracy: 0.9906\n",
      "Epoch 19/20\n",
      "60000/60000 [==============================] - 4s 66us/sample - loss: 0.0286 - accuracy: 0.9907\n",
      "Epoch 20/20\n",
      "59968/60000 [============================>.] - ETA: 0s - loss: 0.0267 - accuracy: 0.9915\n",
      "Epoch 00020: saving model to checkpoints/parameters-0020.ckpt\n",
      "60000/60000 [==============================] - 4s 66us/sample - loss: 0.0267 - accuracy: 0.9916\n"
     ]
    },
    {
     "data": {
      "text/plain": [
       "<tensorflow.python.keras.callbacks.History at 0x7ff83b9ca6d8>"
      ]
     },
     "execution_count": 6,
     "metadata": {},
     "output_type": "execute_result"
    }
   ],
   "source": [
    "epochs = 20\n",
    "\n",
    "model.save_weights(checkpoint_path.format(epoch=0))\n",
    "\n",
    "model.fit(x_train, y_train, epochs=epochs, callbacks=[cp_callback])"
   ]
  },
  {
   "cell_type": "code",
   "execution_count": 7,
   "metadata": {},
   "outputs": [
    {
     "name": "stdout",
     "output_type": "stream",
     "text": [
      "10000/10000 - 0s - loss: 0.0447 - accuracy: 0.9863\n"
     ]
    },
    {
     "data": {
      "text/plain": [
       "[0.044687426996655996, 0.9863]"
      ]
     },
     "execution_count": 7,
     "metadata": {},
     "output_type": "execute_result"
    }
   ],
   "source": [
    "model.evaluate(x_test,  y_test, verbose=2)"
   ]
  },
  {
   "cell_type": "code",
   "execution_count": 8,
   "metadata": {},
   "outputs": [
    {
     "name": "stdout",
     "output_type": "stream",
     "text": [
      "WARNING:tensorflow:From /home/lukec/venv/lib/python3.6/site-packages/tensorflow_core/python/ops/resource_variable_ops.py:1786: calling BaseResourceVariable.__init__ (from tensorflow.python.ops.resource_variable_ops) with constraint is deprecated and will be removed in a future version.\n",
      "Instructions for updating:\n",
      "If using Keras pass *_constraint arguments to layers.\n",
      "INFO:tensorflow:Assets written to: models/assets\n"
     ]
    }
   ],
   "source": [
    "model_path = 'models/lenet5.h5'\n",
    "model_dir = os.path.dirname(model_path)\n",
    "model.save(model_dir)"
   ]
  },
  {
   "cell_type": "code",
   "execution_count": 9,
   "metadata": {},
   "outputs": [],
   "source": [
    "probability_model = tf.keras.Sequential([\n",
    "    model,\n",
    "    tf.keras.layers.Softmax()\n",
    "])"
   ]
  },
  {
   "cell_type": "code",
   "execution_count": 10,
   "metadata": {},
   "outputs": [],
   "source": [
    "def get_predictions(x):\n",
    "    pred = probability_model(x)\n",
    "    indeces = np.argmax(pred, axis=1)\n",
    "    scores = np.max(pred, axis=1)\n",
    "    return list(zip(indeces, scores))"
   ]
  },
  {
   "cell_type": "code",
   "execution_count": 11,
   "metadata": {},
   "outputs": [],
   "source": [
    "pred = get_predictions(x_test[:10])"
   ]
  },
  {
   "cell_type": "code",
   "execution_count": 12,
   "metadata": {},
   "outputs": [
    {
     "name": "stdout",
     "output_type": "stream",
     "text": [
      "Ture: 7, Prediction: (7, 0.9999589)\n"
     ]
    },
    {
     "data": {
      "text/plain": [
       "<matplotlib.image.AxesImage at 0x7ff859698828>"
      ]
     },
     "execution_count": 12,
     "metadata": {},
     "output_type": "execute_result"
    },
    {
     "data": {
      "image/png": "[encoded data removed]",
      "text/plain": [
       "<Figure size 432x288 with 1 Axes>"
      ]
     },
     "metadata": {
      "needs_background": "light"
     },
     "output_type": "display_data"
    }
   ],
   "source": [
    "idx = 0\n",
    "print(f'Ture: {y_test[idx]}, Prediction: {pred[idx]}')\n",
    "plt.imshow(x_test[idx,:,:,0], cmap='Greys', vmin=0, vmax=1.0)"
   ]
  },
  {
   "cell_type": "code",
   "execution_count": 13,
   "metadata": {},
   "outputs": [
    {
     "name": "stdout",
     "output_type": "stream",
     "text": [
      "10000/10000 - 0s - loss: 0.0447 - accuracy: 0.9863\n",
      "Untrained model, accuracy: 98.63%\n"
     ]
    }
   ],
   "source": [
    "# load parameters from models\n",
    "saved_model = keras.Model(inputs=inputs, outputs=outputs, name='lenet5_mlp_2')\n",
    "saved_model.compile(\n",
    "    optimizer='adam',\n",
    "    loss=loss_fn,\n",
    "    metrics=['accuracy'])\n",
    "loss, acc = saved_model.evaluate(x_test, y_test, verbose=2)\n",
    "print(f'Untrained model, accuracy: {100*acc:5.2f}%')"
   ]
  },
  {
   "cell_type": "code",
   "execution_count": 14,
   "metadata": {},
   "outputs": [
    {
     "data": {
      "text/plain": [
       "'checkpoints/parameters-0020.ckpt'"
      ]
     },
     "execution_count": 14,
     "metadata": {},
     "output_type": "execute_result"
    }
   ],
   "source": [
    "latest = tf.train.latest_checkpoint(checkpoint_dir)\n",
    "latest"
   ]
  },
  {
   "cell_type": "code",
   "execution_count": 15,
   "metadata": {},
   "outputs": [
    {
     "name": "stdout",
     "output_type": "stream",
     "text": [
      "10000/10000 - 0s - loss: 0.0447 - accuracy: 0.9863\n",
      "Untrained model, accuracy: 98.63%\n"
     ]
    }
   ],
   "source": [
    "saved_model.load_weights(latest)\n",
    "\n",
    "loss, acc = saved_model.evaluate(x_test, y_test, verbose=2)\n",
    "print(f'Untrained model, accuracy: {100*acc:5.2f}%')"
   ]
  },
  {
   "cell_type": "code",
   "execution_count": 16,
   "metadata": {},
   "outputs": [
    {
     "data": {
      "text/plain": [
       "[('_CHECKPOINTABLE_OBJECT_GRAPH', []),\n",
       " ('layer_with_weights-0/bias/.ATTRIBUTES/VARIABLE_VALUE', [6]),\n",
       " ('layer_with_weights-0/kernel/.ATTRIBUTES/VARIABLE_VALUE', [5, 5, 1, 6]),\n",
       " ('layer_with_weights-1/bias/.ATTRIBUTES/VARIABLE_VALUE', [16]),\n",
       " ('layer_with_weights-1/kernel/.ATTRIBUTES/VARIABLE_VALUE', [5, 5, 6, 16]),\n",
       " ('layer_with_weights-2/bias/.ATTRIBUTES/VARIABLE_VALUE', [120]),\n",
       " ('layer_with_weights-2/kernel/.ATTRIBUTES/VARIABLE_VALUE', [400, 120]),\n",
       " ('layer_with_weights-3/bias/.ATTRIBUTES/VARIABLE_VALUE', [84]),\n",
       " ('layer_with_weights-3/kernel/.ATTRIBUTES/VARIABLE_VALUE', [120, 84]),\n",
       " ('layer_with_weights-4/bias/.ATTRIBUTES/VARIABLE_VALUE', [10]),\n",
       " ('layer_with_weights-4/kernel/.ATTRIBUTES/VARIABLE_VALUE', [84, 10]),\n",
       " ('optimizer/decay/.ATTRIBUTES/VARIABLE_VALUE', []),\n",
       " ('optimizer/iter/.ATTRIBUTES/VARIABLE_VALUE', []),\n",
       " ('optimizer/learning_rate/.ATTRIBUTES/VARIABLE_VALUE', []),\n",
       " ('optimizer/momentum/.ATTRIBUTES/VARIABLE_VALUE', [])]"
      ]
     },
     "execution_count": 16,
     "metadata": {},
     "output_type": "execute_result"
    }
   ],
   "source": [
    "tf.train.list_variables(latest)"
   ]
  },
  {
   "cell_type": "code",
   "execution_count": 17,
   "metadata": {},
   "outputs": [
    {
     "name": "stdout",
     "output_type": "stream",
     "text": [
      "Model: \"lenet5_mlp\"\n",
      "_________________________________________________________________\n",
      "Layer (type)                 Output Shape              Param #   \n",
      "=================================================================\n",
      "hand_writing_digit (InputLay [(None, 32, 32, 1)]       0         \n",
      "_________________________________________________________________\n",
      "conv2d_1 (Conv2D)            (None, 28, 28, 6)         156       \n",
      "_________________________________________________________________\n",
      "pool_1 (AveragePooling2D)    (None, 14, 14, 6)         0         \n",
      "_________________________________________________________________\n",
      "conv2d_2 (Conv2D)            (None, 10, 10, 16)        2416      \n",
      "_________________________________________________________________\n",
      "pool_2 (AveragePooling2D)    (None, 5, 5, 16)          0         \n",
      "_________________________________________________________________\n",
      "flatten (Flatten)            (None, 400)               0         \n",
      "_________________________________________________________________\n",
      "dense_1 (Dense)              (None, 120)               48120     \n",
      "_________________________________________________________________\n",
      "dense_2 (Dense)              (None, 84)                10164     \n",
      "_________________________________________________________________\n",
      "outputs (Dense)              (None, 10)                850       \n",
      "=================================================================\n",
      "Total params: 61,706\n",
      "Trainable params: 61,706\n",
      "Non-trainable params: 0\n",
      "_________________________________________________________________\n"
     ]
    }
   ],
   "source": [
    "new_model = keras.models.load_model(model_dir)\n",
    "new_model.summary()"
   ]
  },
  {
   "cell_type": "code",
   "execution_count": 18,
   "metadata": {},
   "outputs": [
    {
     "name": "stdout",
     "output_type": "stream",
     "text": [
      "10000/10000 - 0s - loss: 0.0447 - accuracy: 0.9863\n",
      "Untrained model, accuracy: 98.63%\n"
     ]
    }
   ],
   "source": [
    "loss, acc = new_model.evaluate(x_test, y_test, verbose=2)\n",
    "print(f'Untrained model, accuracy: {100*acc:5.2f}%')"
   ]
  },
  {
   "cell_type": "code",
   "execution_count": 19,
   "metadata": {},
   "outputs": [
    {
     "name": "stdout",
     "output_type": "stream",
     "text": [
      "Model: \"lenet5_encoder\"\n",
      "_________________________________________________________________\n",
      "Layer (type)                 Output Shape              Param #   \n",
      "=================================================================\n",
      "hand_writing_digit (InputLay [(None, 32, 32, 1)]       0         \n",
      "_________________________________________________________________\n",
      "conv2d_1 (Conv2D)            (None, 28, 28, 6)         156       \n",
      "_________________________________________________________________\n",
      "pool_1 (AveragePooling2D)    (None, 14, 14, 6)         0         \n",
      "_________________________________________________________________\n",
      "conv2d_2 (Conv2D)            (None, 10, 10, 16)        2416      \n",
      "_________________________________________________________________\n",
      "pool_2 (AveragePooling2D)    (None, 5, 5, 16)          0         \n",
      "_________________________________________________________________\n",
      "flatten (Flatten)            (None, 400)               0         \n",
      "_________________________________________________________________\n",
      "dense_1 (Dense)              (None, 120)               48120     \n",
      "=================================================================\n",
      "Total params: 50,692\n",
      "Trainable params: 0\n",
      "Non-trainable params: 50,692\n",
      "_________________________________________________________________\n"
     ]
    }
   ],
   "source": [
    "encoder = keras.Model(inputs, dense_1, name='lenet5_encoder')\n",
    "\n",
    "# not allow changing weights\n",
    "for layer in encoder.layers:\n",
    "    layer.trainable = False\n",
    "    \n",
    "encoder.summary()"
   ]
  },
  {
   "cell_type": "code",
   "execution_count": 20,
   "metadata": {},
   "outputs": [],
   "source": [
    "encoded_input = keras.Input(shape=(120,), name='encoded_img')\n",
    "dense_2 = keras.layers.Dense(84, activation='relu', name='dense_2')(encoded_input)\n",
    "outputs = keras.layers.Dense(10, name='outputs')(dense_2)\n",
    "\n",
    "dense_nn_model = keras.Model(encoded_input, outputs, name='dense_nn')"
   ]
  },
  {
   "cell_type": "code",
   "execution_count": 21,
   "metadata": {},
   "outputs": [],
   "source": [
    "# load pre-trained weights\n",
    "for trained_layer, empty_layer in zip(new_model.layers[-2:], dense_nn_model.layers[1:]):\n",
    "    empty_layer.trainable = False\n",
    "    empty_layer.set_weights(trained_layer.get_weights())\n",
    "    \n",
    "dense_nn_model.compile(\n",
    "    optimizer='adam',\n",
    "    loss=loss_fn,\n",
    "    metrics=['accuracy'])"
   ]
  },
  {
   "cell_type": "code",
   "execution_count": 22,
   "metadata": {},
   "outputs": [
    {
     "name": "stdout",
     "output_type": "stream",
     "text": [
      "Model: \"dense_nn\"\n",
      "_________________________________________________________________\n",
      "Layer (type)                 Output Shape              Param #   \n",
      "=================================================================\n",
      "encoded_img (InputLayer)     [(None, 120)]             0         \n",
      "_________________________________________________________________\n",
      "dense_2 (Dense)              (None, 84)                10164     \n",
      "_________________________________________________________________\n",
      "outputs (Dense)              (None, 10)                850       \n",
      "=================================================================\n",
      "Total params: 11,014\n",
      "Trainable params: 0\n",
      "Non-trainable params: 11,014\n",
      "_________________________________________________________________\n"
     ]
    }
   ],
   "source": [
    "dense_nn_model.summary()"
   ]
  },
  {
   "cell_type": "code",
   "execution_count": 23,
   "metadata": {},
   "outputs": [
    {
     "name": "stdout",
     "output_type": "stream",
     "text": [
      "(5, 5, 1, 6)\n"
     ]
    },
    {
     "data": {
      "text/plain": [
       "array([[[[-0.28998306,  0.11943842,  0.13029037,  0.0229655 ,\n",
       "           0.22941332, -0.0908282 ]],\n",
       "\n",
       "        [[-0.3303709 ,  0.04537072,  0.32510257, -0.11183213,\n",
       "           0.04925697,  0.03118352]],\n",
       "\n",
       "        [[-0.15095334, -0.11915299,  0.5151876 , -0.14418551,\n",
       "          -0.08762196,  0.2208617 ]],\n",
       "\n",
       "        [[ 0.20694783, -0.06171307,  0.29746717, -0.17144936,\n",
       "          -0.06285409, -0.04826252]],\n",
       "\n",
       "        [[ 0.15600035, -0.07005176, -0.0912826 , -0.13388784,\n",
       "          -0.11314193,  0.07175418]]]], dtype=float32)"
      ]
     },
     "execution_count": 23,
     "metadata": {},
     "output_type": "execute_result"
    }
   ],
   "source": [
    "print(new_model.layers[1].get_weights()[0].shape)\n",
    "new_model.layers[1].get_weights()[0][:1]"
   ]
  },
  {
   "cell_type": "code",
   "execution_count": 24,
   "metadata": {},
   "outputs": [
    {
     "name": "stdout",
     "output_type": "stream",
     "text": [
      "(5, 5, 1, 6)\n"
     ]
    },
    {
     "data": {
      "text/plain": [
       "array([[[[-0.28998306,  0.11943842,  0.13029037,  0.0229655 ,\n",
       "           0.22941332, -0.0908282 ]],\n",
       "\n",
       "        [[-0.3303709 ,  0.04537072,  0.32510257, -0.11183213,\n",
       "           0.04925697,  0.03118352]],\n",
       "\n",
       "        [[-0.15095334, -0.11915299,  0.5151876 , -0.14418551,\n",
       "          -0.08762196,  0.2208617 ]],\n",
       "\n",
       "        [[ 0.20694783, -0.06171307,  0.29746717, -0.17144936,\n",
       "          -0.06285409, -0.04826252]],\n",
       "\n",
       "        [[ 0.15600035, -0.07005176, -0.0912826 , -0.13388784,\n",
       "          -0.11314193,  0.07175418]]]], dtype=float32)"
      ]
     },
     "execution_count": 24,
     "metadata": {},
     "output_type": "execute_result"
    }
   ],
   "source": [
    "# weights are inherited from origional layer\n",
    "print(encoder.layers[1].get_weights()[0].shape)\n",
    "encoder.layers[1].get_weights()[0][:1]"
   ]
  },
  {
   "cell_type": "code",
   "execution_count": 25,
   "metadata": {},
   "outputs": [
    {
     "data": {
      "text/plain": [
       "(84, 10)"
      ]
     },
     "execution_count": 25,
     "metadata": {},
     "output_type": "execute_result"
    }
   ],
   "source": [
    "layer = new_model.layers[len(new_model.layers)-1]\n",
    "layer.get_weights()[0].shape"
   ]
  },
  {
   "cell_type": "code",
   "execution_count": 26,
   "metadata": {},
   "outputs": [
    {
     "data": {
      "text/plain": [
       "(10000, 120)"
      ]
     },
     "execution_count": 26,
     "metadata": {},
     "output_type": "execute_result"
    }
   ],
   "source": [
    "encoded_test = encoder.predict(x_test)\n",
    "encoded_test.shape"
   ]
  },
  {
   "cell_type": "code",
   "execution_count": 27,
   "metadata": {},
   "outputs": [
    {
     "name": "stdout",
     "output_type": "stream",
     "text": [
      "10000/10000 - 0s - loss: 0.0447 - accuracy: 0.9863\n"
     ]
    }
   ],
   "source": [
    "# the seperated models are able to match the single trianed model\n",
    "loss, acc = dense_nn_model.evaluate(encoded_test, y_test, verbose=2)"
   ]
  },
  {
   "cell_type": "code",
   "execution_count": null,
   "metadata": {},
   "outputs": [],
   "source": []
  }
 ],
 "metadata": {
  "kernelspec": {
   "display_name": "Python 3",
   "language": "python",
   "name": "python3"
  },
  "language_info": {
   "codemirror_mode": {
    "name": "ipython",
    "version": 3
   },
   "file_extension": ".py",
   "mimetype": "text/x-python",
   "name": "python",
   "nbconvert_exporter": "python",
   "pygments_lexer": "ipython3",
   "version": "3.6.9"
  }
 },
 "nbformat": 4,
 "nbformat_minor": 4
}
